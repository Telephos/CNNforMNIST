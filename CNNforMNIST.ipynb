{
  "cells": [
    {
      "cell_type": "markdown",
      "metadata": {
        "id": "m7KBpffWzlxH"
      },
      "source": [
        "Simple CNN for image classification on MNIST image dataset."
      ]
    },
    {
      "cell_type": "markdown",
      "source": [
        "Installing a library to make handling the MNIST datafiles easier and importing all the libraries we will need."
      ],
      "metadata": {
        "id": "siJQssWqXQc6"
      }
    },
    {
      "cell_type": "code",
      "source": [
        "!pip install python-mnist"
      ],
      "metadata": {
        "colab": {
          "base_uri": "https://localhost:8080/"
        },
        "id": "2K_CGXjoc4qd",
        "outputId": "f53a4c12-10b6-4093-fe5f-af1376686d07"
      },
      "execution_count": null,
      "outputs": [
        {
          "output_type": "stream",
          "name": "stdout",
          "text": [
            "Looking in indexes: https://pypi.org/simple, https://us-python.pkg.dev/colab-wheels/public/simple/\n",
            "Requirement already satisfied: python-mnist in /usr/local/lib/python3.7/dist-packages (0.7)\n"
          ]
        }
      ]
    },
    {
      "cell_type": "code",
      "source": [
        "import tensorflow as tf\n",
        "\n",
        "from tensorflow import keras\n",
        "from tensorflow.keras import datasets, layers, models\n",
        "import matplotlib.pyplot as plt\n",
        "import numpy as np\n",
        "from mnist import MNIST\n"
      ],
      "metadata": {
        "id": "iAve6DCL4JH4"
      },
      "execution_count": null,
      "outputs": []
    },
    {
      "cell_type": "markdown",
      "source": [
        "Accessing Google Drive where datafiles are stored and changing directory to where datafiles are placed inside Google Drive."
      ],
      "metadata": {
        "id": "C5tP0UYUX1Ii"
      }
    },
    {
      "cell_type": "code",
      "source": [
        "from google.colab import drive\n",
        "drive.mount('/content/MyDrive')"
      ],
      "metadata": {
        "colab": {
          "base_uri": "https://localhost:8080/"
        },
        "id": "Ibolwj2IGyar",
        "outputId": "03bec984-4e91-404b-f5a5-a2595aba25ff"
      },
      "execution_count": null,
      "outputs": [
        {
          "output_type": "stream",
          "name": "stdout",
          "text": [
            "Drive already mounted at /content/MyDrive; to attempt to forcibly remount, call drive.mount(\"/content/MyDrive\", force_remount=True).\n"
          ]
        }
      ]
    },
    {
      "cell_type": "code",
      "source": [
        "cd /content/MyDrive/MyDrive/Colab\\ Notebooks"
      ],
      "metadata": {
        "colab": {
          "base_uri": "https://localhost:8080/"
        },
        "id": "GpAqT7CXG_Yq",
        "outputId": "8e8efcfe-f40c-4391-a1eb-c00fc7e433a4"
      },
      "execution_count": null,
      "outputs": [
        {
          "output_type": "stream",
          "name": "stdout",
          "text": [
            "/content/MyDrive/MyDrive/Colab Notebooks\n"
          ]
        }
      ]
    },
    {
      "cell_type": "markdown",
      "source": [
        "Use the the mnist library to open the original gz files and specify in the MNIST() function arguments where those files will be."
      ],
      "metadata": {
        "id": "3sJ1pZ2fY4VL"
      }
    },
    {
      "cell_type": "code",
      "source": [
        "mndata = MNIST('MNIST')\n",
        "mndata.gz = True "
      ],
      "metadata": {
        "id": "QKfGQjdPO-Ww"
      },
      "execution_count": null,
      "outputs": []
    },
    {
      "cell_type": "code",
      "source": [
        "train_images, train_labels = mndata.load_training()\n",
        "test_images, test_labels = mndata.load_testing()"
      ],
      "metadata": {
        "id": "jb2nUeCbLM3Z"
      },
      "execution_count": null,
      "outputs": []
    },
    {
      "cell_type": "markdown",
      "source": [
        "The mnist library provides a quick way to roughly check what the image will look like. The MNIST images are displayed as 28x28x1 (grey-scale) matrices. We will later specify this for our CNN."
      ],
      "metadata": {
        "id": "B98v26VYZeMZ"
      }
    },
    {
      "cell_type": "code",
      "source": [
        "print(mndata.display(test_images[7]))"
      ],
      "metadata": {
        "colab": {
          "base_uri": "https://localhost:8080/"
        },
        "id": "BxJOCXgPRnVA",
        "outputId": "d90cf03b-dcbd-4e6f-eaf4-9bc7ede0646c"
      },
      "execution_count": null,
      "outputs": [
        {
          "output_type": "stream",
          "name": "stdout",
          "text": [
            "\n",
            "............................\n",
            "............................\n",
            "............................\n",
            "............................\n",
            "............................\n",
            "............................\n",
            "............................\n",
            "...........@@@..............\n",
            "..........@@@@..............\n",
            "..........@@@@@@............\n",
            ".........@@@.@@@@...........\n",
            ".........@....@@@@..........\n",
            ".........@.....@@...........\n",
            ".........@....@@@...........\n",
            ".........@@...@@@@..........\n",
            ".........@@@@@..@@..........\n",
            "..........@@@....@@.........\n",
            "..................@.........\n",
            "..................@@........\n",
            "...................@........\n",
            "...................@@.......\n",
            "....................@.......\n",
            "....................@@......\n",
            ".....................@......\n",
            "......................@.....\n",
            "......................@.....\n",
            "............................\n",
            "............................\n"
          ]
        }
      ]
    },
    {
      "cell_type": "markdown",
      "source": [
        "We will have to reshape our data for the CNN so we need parameters like the number of images in each dataset and the length of each image, since it is currently a 1D array."
      ],
      "metadata": {
        "id": "3gjqcEXWZ1gP"
      }
    },
    {
      "cell_type": "code",
      "source": [
        "im_length = len(train_images[0])\n",
        "train_size = len(train_images)\n",
        "test_size = len(test_images)"
      ],
      "metadata": {
        "id": "0ko617c_U70m"
      },
      "execution_count": null,
      "outputs": []
    },
    {
      "cell_type": "code",
      "source": [
        "print(im_length)\n",
        "print(train_size)\n",
        "print(test_size)"
      ],
      "metadata": {
        "colab": {
          "base_uri": "https://localhost:8080/"
        },
        "id": "2Nx0T-kiVvx4",
        "outputId": "cfb150c7-2058-41ad-cf46-2a10fc023196"
      },
      "execution_count": null,
      "outputs": [
        {
          "output_type": "stream",
          "name": "stdout",
          "text": [
            "784\n",
            "60000\n",
            "10000\n"
          ]
        }
      ]
    },
    {
      "cell_type": "markdown",
      "source": [
        "The code snippet below norms all the values from between 0-255 to 0-1 (float). We do this for both train and test."
      ],
      "metadata": {
        "id": "JFV4He01cXi4"
      }
    },
    {
      "cell_type": "code",
      "source": [
        "train_images_norm = np.ones(shape=(train_size, im_length))\n",
        "for i in range(len(train_images)):\n",
        "  for k in range(im_length):\n",
        "    train_images_norm[i][k] = train_images[i][k]/255.0"
      ],
      "metadata": {
        "id": "qlVQXh5xUam3"
      },
      "execution_count": null,
      "outputs": []
    },
    {
      "cell_type": "code",
      "source": [
        "test_images_norm = np.ones(shape=(test_size, im_length))\n",
        "for i in range(len(test_images)):\n",
        "  for k in range(im_length):\n",
        "    test_images_norm[i][k] = test_images[i][k]/255.0"
      ],
      "metadata": {
        "id": "3C971kCwXATP"
      },
      "execution_count": null,
      "outputs": []
    },
    {
      "cell_type": "markdown",
      "source": [
        "We then reshape the images for the CNN. We create a matrix of zeros with dimensions for 60,000 images, each 28x28 with 1 channel. Hence our matrix is 60,000 by 28 by 28 by 1. The CNN needs for the channel dimension to be specified."
      ],
      "metadata": {
        "id": "xi1ialqlcin_"
      }
    },
    {
      "cell_type": "code",
      "source": [
        "train_images_re = np.zeros((60000,28,28,1))\n",
        "for i in range(len(train_images)):\n",
        "  train_images_re[i] = np.reshape(train_images_norm[i], (28,28,1))"
      ],
      "metadata": {
        "id": "8N_R5E0FlBs7"
      },
      "execution_count": null,
      "outputs": []
    },
    {
      "cell_type": "code",
      "source": [
        "test_images_re = np.zeros((10000,28,28,1))\n",
        "for i in range(len(test_images)):\n",
        "  test_images_re[i] = np.reshape(test_images_norm[i], (28,28,1))"
      ],
      "metadata": {
        "id": "QblfHxKkn0Jy"
      },
      "execution_count": null,
      "outputs": []
    },
    {
      "cell_type": "markdown",
      "source": [
        "We will also convert the labels into numpy arrays"
      ],
      "metadata": {
        "id": "ARBSTHZId69e"
      }
    },
    {
      "cell_type": "code",
      "source": [
        "train_labels_np = np.array(train_labels)\n",
        "test_labels_np = np.array(test_labels)"
      ],
      "metadata": {
        "id": "ta1v83uUe0Z8"
      },
      "execution_count": null,
      "outputs": []
    },
    {
      "cell_type": "markdown",
      "source": [
        "We will use keras' Sequential() function to specify each layer of our network.The CNN takes in our images with the shape (height, weidth, channels) so we specify that in the input shape. We will use a very commmon pattern here of 2D convolution layers into sampling layers.\n",
        "\n",
        "After the Sequential() function is called we will call the following layers.\n",
        "\n",
        "1) Convolution layer with 32 filters sized 3x3 and activation function ReLU.\n",
        "\n",
        "2) Max pooling with a 2x2 filter and a stride of 1 (not specified).\n",
        "\n",
        "3) Convolution layer with 64 filter sized 3x3 and activation function ReLU.\n",
        "\n",
        "4) Max pooling with a 2x2 filter and a stride of 1.\n",
        "\n",
        "5) Convolution layer with 64 filters size 3x3 and activation function ReLU."
      ],
      "metadata": {
        "id": "P3yQT-Yqeh8O"
      }
    },
    {
      "cell_type": "code",
      "source": [
        "model = models.Sequential()\n",
        "model.add(layers.Conv2D(32, (3, 3), activation='relu', input_shape=(28, 28, 1)))\n",
        "model.add(layers.MaxPooling2D((2, 2)))\n",
        "model.add(layers.Conv2D(64, (3, 3), activation='relu'))\n",
        "model.add(layers.MaxPooling2D((2, 2)))\n",
        "model.add(layers.Conv2D(64, (3, 3), activation='relu'))\n"
      ],
      "metadata": {
        "id": "AC7samZVsbGr"
      },
      "execution_count": null,
      "outputs": []
    },
    {
      "cell_type": "markdown",
      "source": [
        "Our images have now been transformed into a tensor of shape (3,3,64) and we will feed these into a dense layer for classification. We first have to flatten our images into 1D arrays, and in the Dense() function we specify the dimensionality of the output space as well as the activation funciton we'd like to use. The second dense layer will take as argument the number of classes."
      ],
      "metadata": {
        "id": "o-cEfSYmhQxH"
      }
    },
    {
      "cell_type": "code",
      "source": [
        "\n",
        "model.add(layers.Flatten())\n",
        "model.add(layers.Dense(64, activation='relu'))\n",
        "model.add(layers.Dense(10))"
      ],
      "metadata": {
        "id": "XoXt_HHIhFfH"
      },
      "execution_count": null,
      "outputs": []
    },
    {
      "cell_type": "markdown",
      "metadata": {
        "id": "lvDVFkg-2DPm"
      },
      "source": [
        "Below we can check what our CNN architecture will look like."
      ]
    },
    {
      "cell_type": "code",
      "execution_count": null,
      "metadata": {
        "id": "8-C4XBg4UTJy",
        "outputId": "ce9af4b9-1c97-4862-bc37-cbc876f11672",
        "colab": {
          "base_uri": "https://localhost:8080/"
        }
      },
      "outputs": [
        {
          "output_type": "stream",
          "name": "stdout",
          "text": [
            "Model: \"sequential\"\n",
            "_________________________________________________________________\n",
            " Layer (type)                Output Shape              Param #   \n",
            "=================================================================\n",
            " conv2d (Conv2D)             (None, 26, 26, 32)        320       \n",
            "                                                                 \n",
            " max_pooling2d (MaxPooling2D  (None, 13, 13, 32)       0         \n",
            " )                                                               \n",
            "                                                                 \n",
            " conv2d_1 (Conv2D)           (None, 11, 11, 64)        18496     \n",
            "                                                                 \n",
            " max_pooling2d_1 (MaxPooling  (None, 5, 5, 64)         0         \n",
            " 2D)                                                             \n",
            "                                                                 \n",
            " conv2d_2 (Conv2D)           (None, 3, 3, 64)          36928     \n",
            "                                                                 \n",
            " flatten (Flatten)           (None, 576)               0         \n",
            "                                                                 \n",
            " dense (Dense)               (None, 64)                36928     \n",
            "                                                                 \n",
            " dense_1 (Dense)             (None, 10)                650       \n",
            "                                                                 \n",
            "=================================================================\n",
            "Total params: 93,322\n",
            "Trainable params: 93,322\n",
            "Non-trainable params: 0\n",
            "_________________________________________________________________\n"
          ]
        }
      ],
      "source": [
        "model.summary()"
      ]
    },
    {
      "cell_type": "markdown",
      "source": [
        "We compile the entire model calculating the loss function using Sparse Categorical Cross Entropy, since this is designed for classifications of two or more labels that are one-hot encoded. "
      ],
      "metadata": {
        "id": "foDMzc-psqE1"
      }
    },
    {
      "cell_type": "code",
      "source": [
        "model.compile(optimizer='adam',\n",
        "              loss=tf.keras.losses.SparseCategoricalCrossentropy(from_logits=True),\n",
        "              metrics=['accuracy'])"
      ],
      "metadata": {
        "id": "tWtJmD08oamF"
      },
      "execution_count": null,
      "outputs": []
    },
    {
      "cell_type": "code",
      "source": [
        "history = model.fit(train_images_re, train_labels_np, epochs=10, batch_size = 100, \n",
        "                    validation_data=(test_images_re, test_labels_np))"
      ],
      "metadata": {
        "colab": {
          "base_uri": "https://localhost:8080/"
        },
        "id": "2_cqFVjwqA0y",
        "outputId": "de038505-9d2e-4393-9051-6ea9fc504777"
      },
      "execution_count": null,
      "outputs": [
        {
          "output_type": "stream",
          "name": "stdout",
          "text": [
            "Epoch 1/10\n",
            "600/600 [==============================] - 5s 5ms/step - loss: 0.2098 - accuracy: 0.9367 - val_loss: 0.0509 - val_accuracy: 0.9828\n",
            "Epoch 2/10\n",
            "600/600 [==============================] - 3s 4ms/step - loss: 0.0532 - accuracy: 0.9840 - val_loss: 0.0430 - val_accuracy: 0.9855\n",
            "Epoch 3/10\n",
            "600/600 [==============================] - 3s 4ms/step - loss: 0.0382 - accuracy: 0.9879 - val_loss: 0.0313 - val_accuracy: 0.9887\n",
            "Epoch 4/10\n",
            "600/600 [==============================] - 2s 4ms/step - loss: 0.0300 - accuracy: 0.9904 - val_loss: 0.0290 - val_accuracy: 0.9903\n",
            "Epoch 5/10\n",
            "600/600 [==============================] - 3s 4ms/step - loss: 0.0245 - accuracy: 0.9924 - val_loss: 0.0401 - val_accuracy: 0.9879\n",
            "Epoch 6/10\n",
            "600/600 [==============================] - 2s 4ms/step - loss: 0.0198 - accuracy: 0.9936 - val_loss: 0.0351 - val_accuracy: 0.9899\n",
            "Epoch 7/10\n",
            "600/600 [==============================] - 2s 4ms/step - loss: 0.0166 - accuracy: 0.9946 - val_loss: 0.0296 - val_accuracy: 0.9899\n",
            "Epoch 8/10\n",
            "600/600 [==============================] - 3s 4ms/step - loss: 0.0133 - accuracy: 0.9959 - val_loss: 0.0300 - val_accuracy: 0.9901\n",
            "Epoch 9/10\n",
            "600/600 [==============================] - 3s 4ms/step - loss: 0.0123 - accuracy: 0.9958 - val_loss: 0.0419 - val_accuracy: 0.9876\n",
            "Epoch 10/10\n",
            "600/600 [==============================] - 3s 4ms/step - loss: 0.0102 - accuracy: 0.9967 - val_loss: 0.0286 - val_accuracy: 0.9917\n"
          ]
        }
      ]
    },
    {
      "cell_type": "code",
      "execution_count": null,
      "metadata": {
        "id": "gtyDF0MKUcM7",
        "outputId": "008a6321-e700-4007-ab43-2bb28960cc50",
        "colab": {
          "base_uri": "https://localhost:8080/",
          "height": 300
        }
      },
      "outputs": [
        {
          "output_type": "stream",
          "name": "stdout",
          "text": [
            "313/313 - 2s - loss: 0.0286 - accuracy: 0.9917 - 2s/epoch - 5ms/step\n"
          ]
        },
        {
          "output_type": "display_data",
          "data": {
            "text/plain": [
              "<Figure size 432x288 with 1 Axes>"
            ],
            "image/png": "[encoded data removed]"
          },
          "metadata": {
            "needs_background": "light"
          }
        }
      ],
      "source": [
        "plt.plot(history.history['accuracy'], label='accuracy')\n",
        "plt.plot(history.history['val_accuracy'], label = 'val_accuracy')\n",
        "plt.xlabel('Epoch')\n",
        "plt.ylabel('Accuracy')\n",
        "plt.ylim([0.8, 1])\n",
        "plt.legend(loc='lower right')\n",
        "\n",
        "test_loss, test_acc = model.evaluate(test_images_re,  test_labels_np, verbose=2)"
      ]
    },
    {
      "cell_type": "code",
      "execution_count": null,
      "metadata": {
        "id": "0LvwaKhtUdOo",
        "outputId": "f5726d15-240f-4246-e8fe-df58a9aecc23",
        "colab": {
          "base_uri": "https://localhost:8080/"
        }
      },
      "outputs": [
        {
          "output_type": "stream",
          "name": "stdout",
          "text": [
            "0.9916999936103821\n"
          ]
        }
      ],
      "source": [
        "print(test_acc)"
      ]
    },
    {
      "cell_type": "code",
      "source": [
        "print(test_loss)"
      ],
      "metadata": {
        "colab": {
          "base_uri": "https://localhost:8080/"
        },
        "id": "_Gvt40Euuj0l",
        "outputId": "33121e4a-d0b0-468e-da42-dfec00e1d889"
      },
      "execution_count": null,
      "outputs": [
        {
          "output_type": "stream",
          "name": "stdout",
          "text": [
            "0.028637152165174484\n"
          ]
        }
      ]
    },
    {
      "cell_type": "code",
      "source": [],
      "metadata": {
        "id": "XpRN-hfBrBtN"
      },
      "execution_count": null,
      "outputs": []
    }
  ],
  "metadata": {
    "accelerator": "GPU",
    "colab": {
      "provenance": []
    },
    "kernelspec": {
      "display_name": "Python 3",
      "name": "python3"
    }
  },
  "nbformat": 4,
  "nbformat_minor": 0
}